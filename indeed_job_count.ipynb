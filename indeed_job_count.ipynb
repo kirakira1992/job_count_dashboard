{
 "cells": [
  {
   "cell_type": "markdown",
   "id": "e2e80365-77e4-4918-8ff7-daa558641262",
   "metadata": {},
   "source": [
    "# Webscrap # jobs from Indeed\n",
    "Several reference posts:\n",
    "- https://medium.com/@alaeddine.grine/linkedin-job-scraper-and-matcher-85d0308ef9aa\n",
    "- https://github.com/AlaGrine/LinkedIn_Job_Scraper_and_Matcher/blob/main/notebooks/Linkedin_Jobs_Scraper.ipynb\n",
    "- https://medium.com/@msalmon00/web-scraping-job-postings-from-indeed-96bd588dcb4b"
   ]
  },
  {
   "cell_type": "code",
   "execution_count": 2,
   "id": "f050b507-e555-4614-af37-8c7eb312a1bd",
   "metadata": {},
   "outputs": [],
   "source": [
    "import requests\n",
    "import bs4\n",
    "from bs4 import BeautifulSoup\n",
    "import pandas as pd\n",
    "import time\n",
    "import datetime"
   ]
  },
  {
   "cell_type": "code",
   "execution_count": 3,
   "id": "b786d08d-c35f-46b3-89f7-668dd69f8986",
   "metadata": {},
   "outputs": [],
   "source": [
    "# URL = 'https://www.indeed.com/jobs?q=machine+learning+engineer&l=united+states'"
   ]
  },
  {
   "cell_type": "code",
   "execution_count": 4,
   "id": "7e7c044e-e5b2-4fc0-8892-10fb75bc94bc",
   "metadata": {},
   "outputs": [],
   "source": [
    "from selenium import webdriver\n",
    "from selenium.webdriver.common.by import By\n",
    "from selenium.webdriver.common.keys import Keys\n",
    "import time\n",
    "import pandas as pd\n",
    "import random\n",
    "import re\n",
    "\n",
    "# Set up the WebDriver options\n",
    "options = webdriver.ChromeOptions()\n",
    "options.add_argument(\"--disable-blink-features=AutomationControlled\")\n",
    "options.add_argument(\"start-maximized\")\n",
    "options.add_argument(\"disable-infobars\")\n",
    "options.add_argument(\"--disable-extensions\")\n",
    "options.add_argument(\"user-agent=Mozilla/5.0 (Windows NT 10.0; Win64; x64) AppleWebKit/537.36 (KHTML, like Gecko) Chrome/91.0.4472.124 Safari/537.36\")\n",
    "\n",
    "# Set up the WebDriver (ensure you have the appropriate driver installed, e.g., chromedriver)\n",
    "# Initialize the WebDriver\n",
    "\n",
    "# Wait for the page to load\n",
    "time.sleep(random.uniform(5, 10))\n",
    "\n",
    "def search_job(job,location):\n",
    "    print(job)\n",
    "    URL = f'https://www.indeed.com/jobs?q={job}&l={location}'\n",
    "    driver = webdriver.Chrome(options=options)\n",
    "    # Go to the website\n",
    "    driver.get(URL)\n",
    "\n",
    "    # Accept cookies\n",
    "    try:\n",
    "        accept_button = driver.find_element(By.XPATH, '//button[text()=\"Accept\"]')\n",
    "        accept_button.click()\n",
    "        time.sleep(2)  # Give some time for the action to complete\n",
    "    except:\n",
    "        print(\"Cookie consent banner not found or already accepted\")\n",
    "\n",
    "    try:\n",
    "        all_elements = driver.find_elements(By.XPATH, \"//*\")\n",
    "\n",
    "        # # Print out information about each element\n",
    "        # for i, element in enumerate(all_elements):\n",
    "        #     try:\n",
    "        #         print(f\"Element {i}:\")\n",
    "        #         print(f\"Tag Name: {element.tag_name}\")\n",
    "        #         print(f\"Text: {element.text}\")\n",
    "        #         print(f\"Attributes: {element.get_attribute('outerHTML')[:200]}\")  # Printing first 200 characters of the outerHTML\n",
    "        #         print(\"\\n\")\n",
    "        #     except Exception as e:\n",
    "        #         print(f\"Element {i}: Could not retrieve information: {e}\\n\")\n",
    "    except Exception as e:\n",
    "        print(f\"Error retrieving elements: {e}\")\n",
    "    # Define the regex pattern\n",
    "    pattern = r'\\n\\s*\\d{1,3}(?:,\\d{3})*\\s+jobs\\n'\n",
    "    element_text = all_elements[0].text\n",
    "    # Find all matches in the text\n",
    "    matches = re.findall(pattern, element_text.replace('+',''))\n",
    "    count = 0\n",
    "    # Print the matches\n",
    "    for match in matches:\n",
    "        # print(match)\n",
    "        count = int(match.split(' jobs')[0].split('\\n')[1].replace(',',''))\n",
    "    driver.quit()\n",
    "    return {'job':job,'location':location,'count':count},all_elements\n",
    "# # Continue with your scraping logic\n",
    "# job_elements = driver.find_elements(By.CLASS_NAME, 'jobsearch-JobCountAndSortPane-jobCount css-13jafh6 eu4oa1w0')\n",
    "# jobs = []\n",
    "\n",
    "# for job_element in job_elements:\n",
    "#     title = job_element.find_element(By.CLASS_NAME, 'job-title').text.strip()\n",
    "#     company = job_element.find_element(By.CLASS_NAME, 'company').text.strip()\n",
    "#     location = job_element.find_element(By.CLASS_NAME, 'location').text.strip()\n",
    "#     summary = job_element.find_element(By.CLASS_NAME, 'summary').text.strip()\n",
    "    \n",
    "#     jobs.append({\n",
    "#         'title': title,\n",
    "#         'company': company,\n",
    "#         'location': location,\n",
    "#         'summary': summary\n",
    "#     })\n",
    "\n",
    "# # Convert to DataFrame and save\n",
    "# jobs_df = pd.DataFrame(jobs)\n",
    "# jobs_df.to_csv('data_scientist_jobs.csv', index=False)\n",
    "\n",
    "# print(\"Data scraped and saved to data_scientist_jobs.csv\")\n",
    "\n",
    "# # Close the browser\n",
    "# driver.quit()\n"
   ]
  },
  {
   "cell_type": "code",
   "execution_count": 5,
   "id": "261bffb8-665a-4dd3-9603-2c0b70a4f319",
   "metadata": {},
   "outputs": [],
   "source": [
    "# j='united+states'\n",
    "# result,all_elements = search_job(i,j)"
   ]
  },
  {
   "cell_type": "code",
   "execution_count": 6,
   "id": "29cde2ce-0ee0-43ae-a045-03c1e32d8c14",
   "metadata": {},
   "outputs": [],
   "source": [
    "# all_elements"
   ]
  },
  {
   "cell_type": "code",
   "execution_count": 7,
   "id": "536188fd-c9ab-468b-8f0e-dfb5c9d3bb96",
   "metadata": {},
   "outputs": [],
   "source": [
    "# for i, element in enumerate(all_elements):\n",
    "#     try:\n",
    "#         print(f\"Element {i}:\")\n",
    "#         print(f\"Tag Name: {element.tag_name}\")\n",
    "#         print(f\"Text: {element.text}\")\n",
    "#         print(f\"Attributes: {element.get_attribute('outerHTML')[:200]}\")  # Printing first 200 characters of the outerHTML\n",
    "#         print(\"\\n\")\n",
    "#     except Exception as e:\n",
    "#         print(f\"Element {i}: Could not retrieve information: {e}\\n\")"
   ]
  },
  {
   "cell_type": "code",
   "execution_count": 8,
   "id": "e80b15ba-34ca-49f7-9d66-df5fe83354ec",
   "metadata": {},
   "outputs": [
    {
     "name": "stdout",
     "output_type": "stream",
     "text": [
      "machine+learning+engineer\n",
      "Cookie consent banner not found or already accepted\n",
      "machine+learning+engineer\n",
      "Cookie consent banner not found or already accepted\n",
      "machine+learning+engineer\n",
      "Cookie consent banner not found or already accepted\n",
      "machine+learning+engineer\n",
      "Cookie consent banner not found or already accepted\n"
     ]
    }
   ],
   "source": [
    "jobs = ['machine+learning+engineer']\n",
    "location = ['united+states','california','new+york','texas']\n",
    "result_list = []\n",
    "for i in jobs:\n",
    "    for j in location:\n",
    "        result,all_elements = search_job(i,j)\n",
    "        result_list.append(result)"
   ]
  },
  {
   "cell_type": "code",
   "execution_count": 9,
   "id": "e0cd4e28-3c29-48b0-af7e-455c9cf19ba9",
   "metadata": {},
   "outputs": [],
   "source": [
    "#     print(job)\n",
    "#     URL = f'https://www.indeed.com/jobs?q={job}&l={location}'\n",
    "#     driver = webdriver.Chrome(options=options)\n",
    "#     # Go to the website\n",
    "#     driver.get(URL)\n",
    "\n",
    "#     # Accept cookies\n",
    "#     try:\n",
    "#         accept_button = driver.find_element(By.XPATH, '//button[text()=\"Accept\"]')\n",
    "#         accept_button.click()\n",
    "#         time.sleep(2)  # Give some time for the action to complete\n",
    "#     except:\n",
    "#         print(\"Cookie consent banner not found or already accepted\")\n",
    "\n",
    "#     try:\n",
    "#         all_elements = driver.find_elements(By.XPATH, \"//*\")\n",
    "\n",
    "#         # # Print out information about each element\n",
    "#         # for i, element in enumerate(all_elements):\n",
    "#         #     try:\n",
    "#         #         print(f\"Element {i}:\")\n",
    "#         #         print(f\"Tag Name: {element.tag_name}\")\n",
    "#         #         print(f\"Text: {element.text}\")\n",
    "#         #         print(f\"Attributes: {element.get_attribute('outerHTML')[:200]}\")  # Printing first 200 characters of the outerHTML\n",
    "#         #         print(\"\\n\")\n",
    "#         #     except Exception as e:\n",
    "#         #         print(f\"Element {i}: Could not retrieve information: {e}\\n\")\n",
    "#     except Exception as e:\n",
    "#         print(f\"Error retrieving elements: {e}\")"
   ]
  },
  {
   "cell_type": "code",
   "execution_count": 10,
   "id": "f4237b77-ef96-4806-9ea1-fc6d03e798d2",
   "metadata": {},
   "outputs": [
    {
     "name": "stdout",
     "output_type": "stream",
     "text": [
      "                         job       location  count\n",
      "0  machine+learning+engineer  united+states   9382\n",
      "1  machine+learning+engineer     california   2000\n",
      "2  machine+learning+engineer       new+york    460\n",
      "3  machine+learning+engineer          texas    300\n"
     ]
    }
   ],
   "source": [
    "print(pd.DataFrame(result_list))\n",
    "pd.DataFrame(result_list).to_csv(f'data_scientist_jobs_{str(datetime.datetime.today().date())}.csv', index=False)"
   ]
  }
 ],
 "metadata": {
  "kernelspec": {
   "display_name": "Python 3 (ipykernel)",
   "language": "python",
   "name": "python3"
  },
  "language_info": {
   "codemirror_mode": {
    "name": "ipython",
    "version": 3
   },
   "file_extension": ".py",
   "mimetype": "text/x-python",
   "name": "python",
   "nbconvert_exporter": "python",
   "pygments_lexer": "ipython3",
   "version": "3.9.19"
  }
 },
 "nbformat": 4,
 "nbformat_minor": 5
}
