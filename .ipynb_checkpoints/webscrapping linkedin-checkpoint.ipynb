{
 "cells": [
  {
   "cell_type": "markdown",
   "id": "19d6ffaa-07cb-4ab9-839d-9dc0c430db72",
   "metadata": {},
   "source": [
    "# Web-Scrapping"
   ]
  },
  {
   "cell_type": "code",
   "execution_count": 2,
   "id": "a1b0ab8e-477e-491a-a2c9-74781683cca8",
   "metadata": {},
   "outputs": [],
   "source": [
    "import requests\n",
    "from bs4 import BeautifulSoup\n",
    "import pandas as pd\n",
    "\n",
    "# URL of the job site (replace with the actual job search URL you have permission to scrape)\n",
    "URL = \"https://www.linkedin.com/jobs/search/?currentJobId=3875157098&keywords=data%20scientist&origin=JOBS_HOME_SEARCH_BUTTON&refresh=true\"\n",
    "\n",
    "# Send a GET request to fetch the raw HTML content\n",
    "response = requests.get(URL)\n",
    "soup = BeautifulSoup(response.content, 'html.parser')\n",
    "\n",
    "# Parse the job postings\n",
    "jobs = []\n",
    "for job_card in soup.find_all('div', class_='job-card'):\n",
    "    title = job_card.find('h2', class_='job-title').text.strip()\n",
    "    company = job_card.find('div', class_='company').text.strip()\n",
    "    location = job_card.find('div', class_='location').text.strip()\n",
    "    summary = job_card.find('div', class_='summary').text.strip()\n",
    "    \n",
    "    jobs.append({\n",
    "        'title': title,\n",
    "        'company': company,\n",
    "        'location': location,\n",
    "        'summary': summary\n",
    "    })\n",
    "\n",
    "# Convert the jobs list to a DataFrame\n",
    "jobs_df = pd.DataFrame(jobs)\n",
    "\n",
    "# # Save the DataFrame to a CSV file\n",
    "# jobs_df.to_csv('data_scientist_jobs.csv', index=False)\n",
    "\n",
    "# print(\"Data scraped and saved to data_scientist_jobs.csv\")\n"
   ]
  },
  {
   "cell_type": "code",
   "execution_count": 2,
   "id": "0fa7991f-9504-4b27-a7fe-0e33a9f94d4e",
   "metadata": {},
   "outputs": [
    {
     "name": "stdout",
     "output_type": "stream",
     "text": [
      "Python 3.9.19\n"
     ]
    }
   ],
   "source": [
    "!python --version"
   ]
  },
  {
   "cell_type": "code",
   "execution_count": 3,
   "id": "2f6aed24-a3da-484f-a4a2-e14fbd4aa330",
   "metadata": {},
   "outputs": [
    {
     "name": "stdout",
     "output_type": "stream",
     "text": [
      "Requirement already satisfied: selenium in /opt/anaconda3/lib/python3.9/site-packages (4.21.0)\n",
      "Requirement already satisfied: urllib3<3,>=1.26 in /opt/anaconda3/lib/python3.9/site-packages (from urllib3[socks]<3,>=1.26->selenium) (1.26.7)\n",
      "Requirement already satisfied: trio~=0.17 in /opt/anaconda3/lib/python3.9/site-packages (from selenium) (0.25.1)\n",
      "Requirement already satisfied: trio-websocket~=0.9 in /opt/anaconda3/lib/python3.9/site-packages (from selenium) (0.11.1)\n",
      "Requirement already satisfied: certifi>=2021.10.8 in /opt/anaconda3/lib/python3.9/site-packages (from selenium) (2024.2.2)\n",
      "Requirement already satisfied: typing_extensions>=4.9.0 in /opt/anaconda3/lib/python3.9/site-packages (from selenium) (4.9.0)\n",
      "Requirement already satisfied: attrs>=23.2.0 in /opt/anaconda3/lib/python3.9/site-packages (from trio~=0.17->selenium) (23.2.0)\n",
      "Requirement already satisfied: sortedcontainers in /opt/anaconda3/lib/python3.9/site-packages (from trio~=0.17->selenium) (2.4.0)\n",
      "Requirement already satisfied: idna in /opt/anaconda3/lib/python3.9/site-packages (from trio~=0.17->selenium) (3.2)\n",
      "Requirement already satisfied: outcome in /opt/anaconda3/lib/python3.9/site-packages (from trio~=0.17->selenium) (1.3.0.post0)\n",
      "Requirement already satisfied: sniffio>=1.3.0 in /opt/anaconda3/lib/python3.9/site-packages (from trio~=0.17->selenium) (1.3.1)\n",
      "Requirement already satisfied: exceptiongroup in /opt/anaconda3/lib/python3.9/site-packages (from trio~=0.17->selenium) (1.2.0)\n",
      "Requirement already satisfied: wsproto>=0.14 in /opt/anaconda3/lib/python3.9/site-packages (from trio-websocket~=0.9->selenium) (1.2.0)\n",
      "Requirement already satisfied: PySocks!=1.5.7,<2.0,>=1.5.6 in /opt/anaconda3/lib/python3.9/site-packages (from urllib3[socks]<3,>=1.26->selenium) (1.7.1)\n",
      "Requirement already satisfied: h11<1,>=0.9.0 in /opt/anaconda3/lib/python3.9/site-packages (from wsproto>=0.14->trio-websocket~=0.9->selenium) (0.14.0)\n",
      "\u001b[33mDEPRECATION: pyodbc 4.0.0-unsupported has a non-standard version number. pip 24.0 will enforce this behaviour change. A possible replacement is to upgrade to a newer version of pyodbc or contact the author to suggest that they release a version with a conforming version number. Discussion can be found at https://github.com/pypa/pip/issues/12063\u001b[0m\u001b[33m\n",
      "\u001b[0m\n",
      "\u001b[1m[\u001b[0m\u001b[34;49mnotice\u001b[0m\u001b[1;39;49m]\u001b[0m\u001b[39;49m A new release of pip is available: \u001b[0m\u001b[31;49m18.1\u001b[0m\u001b[39;49m -> \u001b[0m\u001b[32;49m24.0\u001b[0m\n",
      "\u001b[1m[\u001b[0m\u001b[34;49mnotice\u001b[0m\u001b[1;39;49m]\u001b[0m\u001b[39;49m To update, run: \u001b[0m\u001b[32;49mpip install --upgrade pip\u001b[0m\n"
     ]
    }
   ],
   "source": [
    "!pip install selenium\n",
    "from selenium import webdriver\n",
    "from selenium.webdriver.chrome.service import Service\n",
    "import time\n",
    "import pandas as pd\n",
    "from selenium.webdriver.common.by import By"
   ]
  },
  {
   "cell_type": "code",
   "execution_count": 4,
   "id": "8c6b2747-4f0f-4da7-b14c-3bd1f3123f71",
   "metadata": {},
   "outputs": [
    {
     "ename": "TypeError",
     "evalue": "int() argument must be a string, a bytes-like object or a number, not 'WebElement'",
     "output_type": "error",
     "traceback": [
      "\u001b[0;31m---------------------------------------------------------------------------\u001b[0m",
      "\u001b[0;31mTypeError\u001b[0m                                 Traceback (most recent call last)",
      "Cell \u001b[0;32mIn[4], line 4\u001b[0m\n\u001b[1;32m      2\u001b[0m driver\u001b[38;5;241m=\u001b[39mwebdriver\u001b[38;5;241m.\u001b[39mChrome()\n\u001b[1;32m      3\u001b[0m driver\u001b[38;5;241m.\u001b[39mget(url)\n\u001b[0;32m----> 4\u001b[0m no_of_jobs \u001b[38;5;241m=\u001b[39m \u001b[38;5;28;43mint\u001b[39;49m\u001b[43m(\u001b[49m\u001b[43mdriver\u001b[49m\u001b[38;5;241;43m.\u001b[39;49m\u001b[43mfind_element\u001b[49m\u001b[43m(\u001b[49m\u001b[43mBy\u001b[49m\u001b[38;5;241;43m.\u001b[39;49m\u001b[43mCSS_SELECTOR\u001b[49m\u001b[43m,\u001b[49m\u001b[43m \u001b[49m\u001b[38;5;124;43m'\u001b[39;49m\u001b[38;5;124;43mh1>span\u001b[39;49m\u001b[38;5;124;43m'\u001b[39;49m\u001b[43m)\u001b[49m\u001b[43m)\u001b[49m\n",
      "\u001b[0;31mTypeError\u001b[0m: int() argument must be a string, a bytes-like object or a number, not 'WebElement'"
     ]
    }
   ],
   "source": [
    "url = \"https://www.linkedin.com/jobs/search/?currentJobId=3875157098&keywords=data%20scientist&origin=JOBS_HOME_SEARCH_BUTTON&refresh=true\"\n",
    "chrome_options.add_argument(\"--headless\")\n",
    "chrome_options.add_argument(\"--no-sandbox\")\n",
    "chrome_options.add_argument(\"--disable-dev-shm-usage\")\n",
    "\n",
    "driver=webdriver.Chrome()\n",
    "driver.get(url)\n",
    "# no_of_jobs = int(driver.find_element(By.CSS_SELECTOR, 'h1>span'))"
   ]
  },
  {
   "cell_type": "code",
   "execution_count": null,
   "id": "ede0c921-9f65-4d59-b7fa-0d4be4b0d6d5",
   "metadata": {},
   "outputs": [],
   "source": [
    "# soup"
   ]
  },
  {
   "cell_type": "code",
   "execution_count": 10,
   "id": "9ac86b34-d143-4f8e-b2c9-e9f83f81334d",
   "metadata": {},
   "outputs": [
    {
     "name": "stdout",
     "output_type": "stream",
     "text": [
      "Collecting linkedin_jobs_scraper\n",
      "  Downloading linkedin_jobs_scraper-4.1.1-py3-none-any.whl.metadata (12 kB)\n",
      "Requirement already satisfied: selenium>=4.12.0 in /opt/anaconda3/lib/python3.9/site-packages (from linkedin_jobs_scraper) (4.21.0)\n",
      "Requirement already satisfied: urllib3<3,>=1.26 in /opt/anaconda3/lib/python3.9/site-packages (from urllib3[socks]<3,>=1.26->selenium>=4.12.0->linkedin_jobs_scraper) (1.26.7)\n",
      "Requirement already satisfied: trio~=0.17 in /opt/anaconda3/lib/python3.9/site-packages (from selenium>=4.12.0->linkedin_jobs_scraper) (0.25.1)\n",
      "Requirement already satisfied: trio-websocket~=0.9 in /opt/anaconda3/lib/python3.9/site-packages (from selenium>=4.12.0->linkedin_jobs_scraper) (0.11.1)\n",
      "Requirement already satisfied: certifi>=2021.10.8 in /opt/anaconda3/lib/python3.9/site-packages (from selenium>=4.12.0->linkedin_jobs_scraper) (2024.2.2)\n",
      "Requirement already satisfied: typing_extensions>=4.9.0 in /opt/anaconda3/lib/python3.9/site-packages (from selenium>=4.12.0->linkedin_jobs_scraper) (4.9.0)\n",
      "Requirement already satisfied: attrs>=23.2.0 in /opt/anaconda3/lib/python3.9/site-packages (from trio~=0.17->selenium>=4.12.0->linkedin_jobs_scraper) (23.2.0)\n",
      "Requirement already satisfied: sortedcontainers in /opt/anaconda3/lib/python3.9/site-packages (from trio~=0.17->selenium>=4.12.0->linkedin_jobs_scraper) (2.4.0)\n",
      "Requirement already satisfied: idna in /opt/anaconda3/lib/python3.9/site-packages (from trio~=0.17->selenium>=4.12.0->linkedin_jobs_scraper) (3.2)\n",
      "Requirement already satisfied: outcome in /opt/anaconda3/lib/python3.9/site-packages (from trio~=0.17->selenium>=4.12.0->linkedin_jobs_scraper) (1.3.0.post0)\n",
      "Requirement already satisfied: sniffio>=1.3.0 in /opt/anaconda3/lib/python3.9/site-packages (from trio~=0.17->selenium>=4.12.0->linkedin_jobs_scraper) (1.3.1)\n",
      "Requirement already satisfied: exceptiongroup in /opt/anaconda3/lib/python3.9/site-packages (from trio~=0.17->selenium>=4.12.0->linkedin_jobs_scraper) (1.2.0)\n",
      "Requirement already satisfied: wsproto>=0.14 in /opt/anaconda3/lib/python3.9/site-packages (from trio-websocket~=0.9->selenium>=4.12.0->linkedin_jobs_scraper) (1.2.0)\n",
      "Requirement already satisfied: PySocks!=1.5.7,<2.0,>=1.5.6 in /opt/anaconda3/lib/python3.9/site-packages (from urllib3[socks]<3,>=1.26->selenium>=4.12.0->linkedin_jobs_scraper) (1.7.1)\n",
      "Requirement already satisfied: h11<1,>=0.9.0 in /opt/anaconda3/lib/python3.9/site-packages (from wsproto>=0.14->trio-websocket~=0.9->selenium>=4.12.0->linkedin_jobs_scraper) (0.14.0)\n",
      "Downloading linkedin_jobs_scraper-4.1.1-py3-none-any.whl (28 kB)\n",
      "\u001b[33mDEPRECATION: pyodbc 4.0.0-unsupported has a non-standard version number. pip 24.0 will enforce this behaviour change. A possible replacement is to upgrade to a newer version of pyodbc or contact the author to suggest that they release a version with a conforming version number. Discussion can be found at https://github.com/pypa/pip/issues/12063\u001b[0m\u001b[33m\n",
      "\u001b[0mInstalling collected packages: linkedin_jobs_scraper\n",
      "Successfully installed linkedin_jobs_scraper-4.1.1\n",
      "\n",
      "\u001b[1m[\u001b[0m\u001b[34;49mnotice\u001b[0m\u001b[1;39;49m]\u001b[0m\u001b[39;49m A new release of pip is available: \u001b[0m\u001b[31;49m18.1\u001b[0m\u001b[39;49m -> \u001b[0m\u001b[32;49m24.0\u001b[0m\n",
      "\u001b[1m[\u001b[0m\u001b[34;49mnotice\u001b[0m\u001b[1;39;49m]\u001b[0m\u001b[39;49m To update, run: \u001b[0m\u001b[32;49mpip install --upgrade pip\u001b[0m\n"
     ]
    },
    {
     "name": "stderr",
     "output_type": "stream",
     "text": [
      "INFO:li:scraper:('Using strategy AnonymousStrategy',)\n",
      "WARNING:li:scraper:(\"AnonymousStrategy is no longer maintained and it won't probably work. It is recommended to use an authenticated session, see documentation at https://github.com/spinlud/py-linkedin-jobs-scraper#anonymous-vs-authenticated-session.\",)\n",
      "INFO:li:scraper:('Starting new query', \"Query(query= options=QueryOptions(limit=27 locations=['Worldwide'] apply_link=False skip_promoted_jobs=False page_offset=0))\")\n",
      "INFO:li:scraper:('Chrome debugger url', 'http://localhost:52062')\n",
      "INFO:li:scraper:('Websocket debugger url: ', 'ws://localhost:52062/devtools/page/F58D4F2B0A3A3430DF73C08CD0E7AF10')\n",
      "WARNING:li:scraper:('[AnonymousStrategy]', 'This run strategy is no longer supported')\n",
      "INFO:li:scraper:('[][Worldwide]', 'Opening https://www.linkedin.com/jobs/search?location=Worldwide')\n",
      "INFO:li:scraper:('[][Worldwide]', 'Trying first selectors set')\n",
      "INFO:li:scraper:('[][Worldwide]', 'Trying second selectors set')\n",
      "INFO:li:scraper:('[][Worldwide]', 'OK')\n",
      "INFO:li:scraper:('[][Worldwide]', 'Starting pagination loop')\n",
      "INFO:li:scraper:('[][Worldwide]', 'Found 60 jobs')\n",
      "INFO:li:scraper:('[][Worldwide][1]', 'Processed')\n"
     ]
    },
    {
     "name": "stdout",
     "output_type": "stream",
     "text": [
      "[ON_DATA] Junior Front-End Developer Nascent  2024-05-08 https://lr.linkedin.com/jobs/view/junior-front-end-developer-at-nascent-3920546898?position=1&pageNum=0&refId=2re0v4jMIWDNXkH6w6H2Tg%3D%3D&trackingId=eZCs6tpYfAZHZrpeP%2FHb1g%3D%3D&trk=public_jobs_jserp-result_search-card [] 4589\n"
     ]
    },
    {
     "name": "stderr",
     "output_type": "stream",
     "text": [
      "INFO:li:scraper:('[][Worldwide][2]', 'Processed')\n"
     ]
    },
    {
     "name": "stdout",
     "output_type": "stream",
     "text": [
      "[ON_DATA] Graphic Designer Place Studio AU  2024-05-27 https://lr.linkedin.com/jobs/view/graphic-designer-at-place-studio-au-3936203795?position=2&pageNum=0&refId=2re0v4jMIWDNXkH6w6H2Tg%3D%3D&trackingId=OzKMm8zAJ0huQiqCx1O0Rw%3D%3D&trk=public_jobs_jserp-result_search-card [] 113\n"
     ]
    },
    {
     "name": "stderr",
     "output_type": "stream",
     "text": [
      "INFO:li:scraper:('[][Worldwide][3]', 'Processed')\n"
     ]
    },
    {
     "name": "stdout",
     "output_type": "stream",
     "text": [
      "[ON_DATA] Virtual Assistant Sirius Support  2024-05-05 https://lr.linkedin.com/jobs/view/virtual-assistant-at-sirius-support-3938311285?position=3&pageNum=0&refId=2re0v4jMIWDNXkH6w6H2Tg%3D%3D&trackingId=K%2FQAoOQ1%2BpKeghUHlmnuqQ%3D%3D&trk=public_jobs_jserp-result_search-card [] 1504\n"
     ]
    },
    {
     "name": "stderr",
     "output_type": "stream",
     "text": [
      "INFO:li:scraper:('[][Worldwide][4]', 'Processed')\n"
     ]
    },
    {
     "name": "stdout",
     "output_type": "stream",
     "text": [
      "[ON_DATA] Candidature spontanée Pennylane  2024-05-22 https://lr.linkedin.com/jobs/view/candidature-spontan%C3%A9e-at-pennylane-3364479388?position=4&pageNum=0&refId=2re0v4jMIWDNXkH6w6H2Tg%3D%3D&trackingId=VezrIJHDzUmNUcwYWZuSeA%3D%3D&trk=public_jobs_jserp-result_search-card [] 760\n"
     ]
    },
    {
     "name": "stderr",
     "output_type": "stream",
     "text": [
      "INFO:li:scraper:('[][Worldwide][5]', 'Processed')\n"
     ]
    },
    {
     "name": "stdout",
     "output_type": "stream",
     "text": [
      "[ON_DATA] CSE - General Sirius Support  2024-05-05 https://lr.linkedin.com/jobs/view/cse-general-at-sirius-support-3938310368?position=5&pageNum=0&refId=2re0v4jMIWDNXkH6w6H2Tg%3D%3D&trackingId=lbr6t5gTsYY9%2B8mm6luEeg%3D%3D&trk=public_jobs_jserp-result_search-card [] 1941\n"
     ]
    },
    {
     "name": "stderr",
     "output_type": "stream",
     "text": [
      "INFO:li:scraper:('[][Worldwide][6]', 'Processed')\n"
     ]
    },
    {
     "name": "stdout",
     "output_type": "stream",
     "text": [
      "[ON_DATA] Architectural Designer Place Studio AU  2024-04-01 https://lr.linkedin.com/jobs/view/architectural-designer-at-place-studio-au-3880266915?position=6&pageNum=0&refId=2re0v4jMIWDNXkH6w6H2Tg%3D%3D&trackingId=sZpP%2FAXnbLr%2BAEB3lqFM8A%3D%3D&trk=public_jobs_jserp-result_search-card [] 823\n"
     ]
    },
    {
     "name": "stderr",
     "output_type": "stream",
     "text": [
      "INFO:li:scraper:('[][Worldwide][7]', 'Processed')\n"
     ]
    },
    {
     "name": "stdout",
     "output_type": "stream",
     "text": [
      "[ON_DATA] Spontaneous Application Outsight  2023-05-23 https://lr.linkedin.com/jobs/view/spontaneous-application-at-outsight-3634035734?position=7&pageNum=0&refId=2re0v4jMIWDNXkH6w6H2Tg%3D%3D&trackingId=gNEmdcR926nuaOa3E%2B4tzA%3D%3D&trk=public_jobs_jserp-result_search-card [] 523\n"
     ]
    },
    {
     "name": "stderr",
     "output_type": "stream",
     "text": [
      "INFO:li:scraper:('[][Worldwide][8]', 'Processed')\n"
     ]
    },
    {
     "name": "stdout",
     "output_type": "stream",
     "text": [
      "[ON_DATA] Appointment Setter Taskforce Solutions  2024-06-02 https://lr.linkedin.com/jobs/view/appointment-setter-at-taskforce-solutions-3940763266?position=8&pageNum=0&refId=2re0v4jMIWDNXkH6w6H2Tg%3D%3D&trackingId=l4FRz%2FC0A%2B2a2mP%2B9dbzfA%3D%3D&trk=public_jobs_jserp-result_search-card [] 1223\n"
     ]
    },
    {
     "name": "stderr",
     "output_type": "stream",
     "text": [
      "INFO:li:scraper:('[][Worldwide][9]', 'Processed')\n"
     ]
    },
    {
     "name": "stdout",
     "output_type": "stream",
     "text": [
      "[ON_DATA] Virtual Assistant - Tech Department V5Pay  2024-05-15 https://lr.linkedin.com/jobs/view/virtual-assistant-tech-department-at-v5pay-3926994815?position=9&pageNum=0&refId=2re0v4jMIWDNXkH6w6H2Tg%3D%3D&trackingId=NfCnitvN15jJhlcLfFsH7Q%3D%3D&trk=public_jobs_jserp-result_search-card [] 884\n"
     ]
    },
    {
     "name": "stderr",
     "output_type": "stream",
     "text": [
      "INFO:li:scraper:('[][Worldwide][10]', 'Processed')\n"
     ]
    },
    {
     "name": "stdout",
     "output_type": "stream",
     "text": [
      "[ON_DATA] Physicist 9-P11 State of Michigan  2024-05-29 https://lr.linkedin.com/jobs/view/physicist-9-p11-at-state-of-michigan-3933825312?position=10&pageNum=0&refId=2re0v4jMIWDNXkH6w6H2Tg%3D%3D&trackingId=%2BxlMoJ1x%2FT%2FEL%2FOuDvZE0w%3D%3D&trk=public_jobs_jserp-result_search-card [] 4251\n"
     ]
    },
    {
     "name": "stderr",
     "output_type": "stream",
     "text": [
      "INFO:li:scraper:('[][Worldwide][11]', 'Processed')\n"
     ]
    },
    {
     "name": "stdout",
     "output_type": "stream",
     "text": [
      "[ON_DATA] Technical Support Sirius Support  2024-05-09 https://lr.linkedin.com/jobs/view/technical-support-at-sirius-support-3941186805?position=11&pageNum=0&refId=2re0v4jMIWDNXkH6w6H2Tg%3D%3D&trackingId=q8hx6BSW7ct3kp5R9iG9MQ%3D%3D&trk=public_jobs_jserp-result_search-card [] 1606\n"
     ]
    },
    {
     "name": "stderr",
     "output_type": "stream",
     "text": [
      "INFO:li:scraper:('[][Worldwide][12]', 'Processed')\n"
     ]
    },
    {
     "name": "stdout",
     "output_type": "stream",
     "text": [
      "[ON_DATA] ADMINISTRATIVE ASSISTANT Environmental Justice Foundation (EJF)  2024-05-14 https://lr.linkedin.com/jobs/view/administrative-assistant-at-environmental-justice-foundation-ejf-3925241885?position=12&pageNum=0&refId=2re0v4jMIWDNXkH6w6H2Tg%3D%3D&trackingId=%2B7HOOm%2FswM7smgQc4MQQaA%3D%3D&trk=public_jobs_jserp-result_search-card [] 4191\n"
     ]
    },
    {
     "name": "stderr",
     "output_type": "stream",
     "text": [
      "INFO:li:scraper:('[][Worldwide][13]', 'Processed')\n"
     ]
    },
    {
     "name": "stdout",
     "output_type": "stream",
     "text": [
      "[ON_DATA] Part Time Custodian Rockwood School District  2023-12-01 https://lr.linkedin.com/jobs/view/part-time-custodian-at-rockwood-school-district-3776748179?position=13&pageNum=0&refId=2re0v4jMIWDNXkH6w6H2Tg%3D%3D&trackingId=unyZpq7pLRm6cKwpQ74qAw%3D%3D&trk=public_jobs_jserp-result_search-card [] 714\n"
     ]
    },
    {
     "name": "stderr",
     "output_type": "stream",
     "text": [
      "INFO:li:scraper:('[][Worldwide][14]', 'Processed')\n"
     ]
    },
    {
     "name": "stdout",
     "output_type": "stream",
     "text": [
      "[ON_DATA] Secretarial Assistant-Ballwin Elementary Rockwood School District  2024-05-28 https://lr.linkedin.com/jobs/view/secretarial-assistant-ballwin-elementary-at-rockwood-school-district-3937135588?position=14&pageNum=0&refId=2re0v4jMIWDNXkH6w6H2Tg%3D%3D&trackingId=HhwDtnrriFSiOGYxDsGWzA%3D%3D&trk=public_jobs_jserp-result_search-card [] 2504\n"
     ]
    },
    {
     "name": "stderr",
     "output_type": "stream",
     "text": [
      "ERROR:li:scraper:('[][Worldwide][15]', 'Timeout on loading job details')\n",
      "NoneType: None\n",
      "ERROR:li:scraper:('[][Worldwide][15]', 'Timeout on loading job details')\n",
      "NoneType: None\n",
      "INFO:li:scraper:('[][Worldwide][15]', 'Processed')\n"
     ]
    },
    {
     "name": "stdout",
     "output_type": "stream",
     "text": [
      "[ON_DATA] Architect ECG Engineering Consultants Group S.A.  2024-05-23 https://lr.linkedin.com/jobs/view/architect-at-ecg-engineering-consultants-group-s-a-3933971219?position=17&pageNum=0&refId=2re0v4jMIWDNXkH6w6H2Tg%3D%3D&trackingId=V8R22Ztk4xie8HmwcWX7Rw%3D%3D&trk=public_jobs_jserp-result_search-card [] 990\n"
     ]
    },
    {
     "name": "stderr",
     "output_type": "stream",
     "text": [
      "INFO:li:scraper:('[][Worldwide][16]', 'Processed')\n"
     ]
    },
    {
     "name": "stdout",
     "output_type": "stream",
     "text": [
      "[ON_DATA] Finance Director (Remote) MonetizeMore  2024-05-22 https://lr.linkedin.com/jobs/view/finance-director-remote-at-monetizemore-3932770558?position=18&pageNum=0&refId=2re0v4jMIWDNXkH6w6H2Tg%3D%3D&trackingId=%2F8J89HQxu8mlBWUvLFYJMA%3D%3D&trk=public_jobs_jserp-result_search-card [] 1008\n"
     ]
    },
    {
     "name": "stderr",
     "output_type": "stream",
     "text": [
      "INFO:li:scraper:('[][Worldwide][17]', 'Processed')\n"
     ]
    },
    {
     "name": "stdout",
     "output_type": "stream",
     "text": [
      "[ON_DATA] SERVICE TECHNICIAN ELECTRICIAN (M/F/D) Hamburg Dresdner Maschinenfabriken GmbH  2024-05-23 https://lr.linkedin.com/jobs/view/service-technician-electrician-m-f-d-at-hamburg-dresdner-maschinenfabriken-gmbh-3932138789?position=19&pageNum=0&refId=2re0v4jMIWDNXkH6w6H2Tg%3D%3D&trackingId=ad9bUDBhj5vn0cmcXxb8rg%3D%3D&trk=public_jobs_jserp-result_search-card [] 1248\n"
     ]
    },
    {
     "name": "stderr",
     "output_type": "stream",
     "text": [
      "INFO:li:scraper:('[][Worldwide][18]', 'Processed')\n"
     ]
    },
    {
     "name": "stdout",
     "output_type": "stream",
     "text": [
      "[ON_DATA] Sales Executive Sirius Support  2024-05-05 https://lr.linkedin.com/jobs/view/sales-executive-at-sirius-support-3938313011?position=20&pageNum=0&refId=2re0v4jMIWDNXkH6w6H2Tg%3D%3D&trackingId=58ZcOXIw8c6metO48NwEOw%3D%3D&trk=public_jobs_jserp-result_search-card [] 1333\n"
     ]
    },
    {
     "name": "stderr",
     "output_type": "stream",
     "text": [
      "INFO:li:scraper:('[][Worldwide][19]', 'Processed')\n"
     ]
    },
    {
     "name": "stdout",
     "output_type": "stream",
     "text": [
      "[ON_DATA] Child Nutrition Manager in Training Rockwood School District  2024-06-10 https://lr.linkedin.com/jobs/view/child-nutrition-manager-in-training-at-rockwood-school-district-3947438255?position=21&pageNum=0&refId=2re0v4jMIWDNXkH6w6H2Tg%3D%3D&trackingId=79kChV8hZxYqnbkqPipQnw%3D%3D&trk=public_jobs_jserp-result_search-card [] 3855\n"
     ]
    },
    {
     "name": "stderr",
     "output_type": "stream",
     "text": [
      "ERROR:li:scraper:('[][Worldwide][20]', 'Timeout on loading job details')\n",
      "NoneType: None\n",
      "ERROR:li:scraper:('[][Worldwide][20]', 'Timeout on loading job details')\n",
      "NoneType: None\n",
      "ERROR:li:scraper:('[][Worldwide][20]', 'Timeout on loading job details')\n",
      "NoneType: None\n",
      "INFO:li:scraper:('[][Worldwide][20]', 'Processed')\n"
     ]
    },
    {
     "name": "stdout",
     "output_type": "stream",
     "text": [
      "[ON_DATA] Child and Youth Safeguarding Officer (Buchanan) SOS Children's Villages International  2024-05-29 https://lr.linkedin.com/jobs/view/child-and-youth-safeguarding-officer-buchanan-at-sos-children-s-villages-international-3938119076?position=25&pageNum=0&refId=2re0v4jMIWDNXkH6w6H2Tg%3D%3D&trackingId=Sy4gNnlczdXLIxrSMZEgxQ%3D%3D&trk=public_jobs_jserp-result_search-card [] 6922\n"
     ]
    },
    {
     "name": "stderr",
     "output_type": "stream",
     "text": [
      "INFO:li:scraper:('[][Worldwide][21]', 'Processed')\n"
     ]
    },
    {
     "name": "stdout",
     "output_type": "stream",
     "text": [
      "[ON_DATA] Adventure Club Assistant Facilitator Full-Time Rockwood School District  2024-04-17 https://lr.linkedin.com/jobs/view/adventure-club-assistant-facilitator-full-time-at-rockwood-school-district-3905361327?position=26&pageNum=0&refId=2re0v4jMIWDNXkH6w6H2Tg%3D%3D&trackingId=HlCaamGBBWD17VoyJHT1zg%3D%3D&trk=public_jobs_jserp-result_search-card [] 2764\n"
     ]
    },
    {
     "name": "stderr",
     "output_type": "stream",
     "text": [
      "INFO:li:scraper:('[][Worldwide][22]', 'Processed')\n"
     ]
    },
    {
     "name": "stdout",
     "output_type": "stream",
     "text": [
      "[ON_DATA] Octopus Internships Octopus Energy  2024-05-22 https://lr.linkedin.com/jobs/view/octopus-internships-at-octopus-energy-3365948353?position=27&pageNum=0&refId=2re0v4jMIWDNXkH6w6H2Tg%3D%3D&trackingId=i2wri191XWHhFaHNjg2V7Q%3D%3D&trk=public_jobs_jserp-result_search-card [] 949\n"
     ]
    },
    {
     "name": "stderr",
     "output_type": "stream",
     "text": [
      "INFO:li:scraper:('[][Worldwide][23]', 'Processed')\n"
     ]
    },
    {
     "name": "stdout",
     "output_type": "stream",
     "text": [
      "[ON_DATA] Junior/Middle Front-End Developer (MarTech) Social Discovery Group  2024-05-29 https://lr.linkedin.com/jobs/view/junior-middle-front-end-developer-martech-at-social-discovery-group-3937202719?position=28&pageNum=0&refId=2re0v4jMIWDNXkH6w6H2Tg%3D%3D&trackingId=G2h%2FzX6YauUMXoHcJAljCw%3D%3D&trk=public_jobs_jserp-result_search-card [] 3710\n"
     ]
    },
    {
     "name": "stderr",
     "output_type": "stream",
     "text": [
      "ERROR:li:scraper:('[][Worldwide][24]', JavascriptException(), 'Traceback (most recent call last):\\n  File \"/opt/anaconda3/lib/python3.9/site-packages/linkedin_jobs_scraper/strategies/anonymous_strategy.py\", line 267, in run\\n    job_id, job_link, job_title, job_company, job_place, job_date = driver.execute_script(\\n  File \"/opt/anaconda3/lib/python3.9/site-packages/selenium/webdriver/remote/webdriver.py\", line 407, in execute_script\\n    return self.execute(command, {\"script\": script, \"args\": converted_args})[\"value\"]\\n  File \"/opt/anaconda3/lib/python3.9/site-packages/selenium/webdriver/remote/webdriver.py\", line 347, in execute\\n    self.error_handler.check_response(response)\\n  File \"/opt/anaconda3/lib/python3.9/site-packages/selenium/webdriver/remote/errorhandler.py\", line 229, in check_response\\n    raise exception_class(message, screen, stacktrace)\\nselenium.common.exceptions.JavascriptException: Message: javascript error: Cannot read properties of null (reading \\'scrollIntoView\\')\\n  (Session in...\n",
      "Traceback (most recent call last):\n",
      "  File \"/opt/anaconda3/lib/python3.9/site-packages/linkedin_jobs_scraper/strategies/anonymous_strategy.py\", line 267, in run\n",
      "    job_id, job_link, job_title, job_company, job_place, job_date = driver.execute_script(\n",
      "  File \"/opt/anaconda3/lib/python3.9/site-packages/selenium/webdriver/remote/webdriver.py\", line 407, in execute_script\n",
      "    return self.execute(command, {\"script\": script, \"args\": converted_args})[\"value\"]\n",
      "  File \"/opt/anaconda3/lib/python3.9/site-packages/selenium/webdriver/remote/webdriver.py\", line 347, in execute\n",
      "    self.error_handler.check_response(response)\n",
      "  File \"/opt/anaconda3/lib/python3.9/site-packages/selenium/webdriver/remote/errorhandler.py\", line 229, in check_response\n",
      "    raise exception_class(message, screen, stacktrace)\n",
      "selenium.common.exceptions.JavascriptException: Message: javascript error: Cannot read properties of null (reading 'scrollIntoView')\n",
      "  (Session info: chrome=125.0.6422.142)\n",
      "Stacktrace:\n",
      "0   chromedriver                        0x0000000104fce4c8 chromedriver + 4302024\n",
      "1   chromedriver                        0x0000000104fc6e10 chromedriver + 4271632\n",
      "2   chromedriver                        0x0000000104bf819c chromedriver + 278940\n",
      "3   chromedriver                        0x0000000104bfc66c chromedriver + 296556\n",
      "4   chromedriver                        0x0000000104bfe740 chromedriver + 304960\n",
      "5   chromedriver                        0x0000000104c7372c chromedriver + 784172\n",
      "6   chromedriver                        0x0000000104c72c5c chromedriver + 781404\n",
      "7   chromedriver                        0x0000000104c2f004 chromedriver + 503812\n",
      "8   chromedriver                        0x0000000104c2f9ec chromedriver + 506348\n",
      "9   chromedriver                        0x0000000104f96510 chromedriver + 4072720\n",
      "10  chromedriver                        0x0000000104f9afbc chromedriver + 4091836\n",
      "11  chromedriver                        0x0000000104f7d754 chromedriver + 3970900\n",
      "12  chromedriver                        0x0000000104f9b8a4 chromedriver + 4094116\n",
      "13  chromedriver                        0x0000000104f706d4 chromedriver + 3917524\n",
      "14  chromedriver                        0x0000000104fb8b08 chromedriver + 4213512\n",
      "15  chromedriver                        0x0000000104fb8c84 chromedriver + 4213892\n",
      "16  chromedriver                        0x0000000104fc6a08 chromedriver + 4270600\n",
      "17  libsystem_pthread.dylib             0x00000001a0c9c26c _pthread_start + 148\n",
      "18  libsystem_pthread.dylib             0x00000001a0c9708c thread_start + 8\n",
      "\n"
     ]
    },
    {
     "name": "stdout",
     "output_type": "stream",
     "text": [
      "[ON_ERROR] Message: javascript error: Cannot read properties of null (reading 'scrollIntoView')\n",
      "  (Session info: chrome=125.0.6422.142)\n",
      "Stacktrace:\n",
      "0   chromedriver                        0x0000000104fce4c8 chromedriver + 4302024\n",
      "1   chromedriver                        0x0000000104fc6e10 chromedriver + 4271632\n",
      "2   chromedriver                        0x0000000104bf819c chromedriver + 278940\n",
      "3   chromedriver                        0x0000000104bfc66c chromedriver + 296556\n",
      "4   chromedriver                        0x0000000104bfe740 chromedriver + 304960\n",
      "5   chromedriver                        0x0000000104c7372c chromedriver + 784172\n",
      "6   chromedriver                        0x0000000104c72c5c chromedriver + 781404\n",
      "7   chromedriver                        0x0000000104c2f004 chromedriver + 503812\n",
      "8   chromedriver                        0x0000000104c2f9ec chromedriver + 506348\n",
      "9   chromedriver                        0x0000000104f96510 chromedriver + 4072720\n",
      "10  chromedriver                        0x0000000104f9afbc chromedriver + 4091836\n",
      "11  chromedriver                        0x0000000104f7d754 chromedriver + 3970900\n",
      "12  chromedriver                        0x0000000104f9b8a4 chromedriver + 4094116\n",
      "13  chromedriver                        0x0000000104f706d4 chromedriver + 3917524\n",
      "14  chromedriver                        0x0000000104fb8b08 chromedriver + 4213512\n",
      "15  chromedriver                        0x0000000104fb8c84 chromedriver + 4213892\n",
      "16  chromedriver                        0x0000000104fc6a08 chromedriver + 4270600\n",
      "17  libsystem_pthread.dylib             0x00000001a0c9c26c _pthread_start + 148\n",
      "18  libsystem_pthread.dylib             0x00000001a0c9708c thread_start + 8\n",
      "\n",
      "Traceback (most recent call last):\n",
      "  File \"/opt/anaconda3/lib/python3.9/site-packages/linkedin_jobs_scraper/strategies/anonymous_strategy.py\", line 267, in run\n",
      "    job_id, job_link, job_title, job_company, job_place, job_date = driver.execute_script(\n",
      "  File \"/opt/anaconda3/lib/python3.9/site-packages/selenium/webdriver/remote/webdriver.py\", line 407, in execute_script\n",
      "    return self.execute(command, {\"script\": script, \"args\": converted_args})[\"value\"]\n",
      "  File \"/opt/anaconda3/lib/python3.9/site-packages/selenium/webdriver/remote/webdriver.py\", line 347, in execute\n",
      "    self.error_handler.check_response(response)\n",
      "  File \"/opt/anaconda3/lib/python3.9/site-packages/selenium/webdriver/remote/errorhandler.py\", line 229, in check_response\n",
      "    raise exception_class(message, screen, stacktrace)\n",
      "selenium.common.exceptions.JavascriptException: Message: javascript error: Cannot read properties of null (reading 'scrollIntoView')\n",
      "  (Session info: chrome=125.0.6422.142)\n",
      "Stacktrace:\n",
      "0   chromedriver                        0x0000000104fce4c8 chromedriver + 4302024\n",
      "1   chromedriver                        0x0000000104fc6e10 chromedriver + 4271632\n",
      "2   chromedriver                        0x0000000104bf819c chromedriver + 278940\n",
      "3   chromedriver                        0x0000000104bfc66c chromedriver + 296556\n",
      "4   chromedriver                        0x0000000104bfe740 chromedriver + 304960\n",
      "5   chromedriver                        0x0000000104c7372c chromedriver + 784172\n",
      "6   chromedriver                        0x0000000104c72c5c chromedriver + 781404\n",
      "7   chromedriver                        0x0000000104c2f004 chromedriver + 503812\n",
      "8   chromedriver                        0x0000000104c2f9ec chromedriver + 506348\n",
      "9   chromedriver                        0x0000000104f96510 chromedriver + 4072720\n",
      "10  chromedriver                        0x0000000104f9afbc chromedriver + 4091836\n",
      "11  chromedriver                        0x0000000104f7d754 chromedriver + 3970900\n",
      "12  chromedriver                        0x0000000104f9b8a4 chromedriver + 4094116\n",
      "13  chromedriver                        0x0000000104f706d4 chromedriver + 3917524\n",
      "14  chromedriver                        0x0000000104fb8b08 chromedriver + 4213512\n",
      "15  chromedriver                        0x0000000104fb8c84 chromedriver + 4213892\n",
      "16  chromedriver                        0x0000000104fc6a08 chromedriver + 4270600\n",
      "17  libsystem_pthread.dylib             0x00000001a0c9c26c _pthread_start + 148\n",
      "18  libsystem_pthread.dylib             0x00000001a0c9708c thread_start + 8\n",
      "\n",
      "\n"
     ]
    },
    {
     "name": "stderr",
     "output_type": "stream",
     "text": [
      "ERROR:li:scraper:('[][Worldwide][24]', 'Timeout on loading job details')\n",
      "NoneType: None\n",
      "ERROR:li:scraper:('[][Worldwide][24]', 'Timeout on loading job details')\n",
      "NoneType: None\n",
      "INFO:li:scraper:('[][Worldwide][24]', 'Processed')\n"
     ]
    },
    {
     "name": "stdout",
     "output_type": "stream",
     "text": [
      "[ON_DATA] Machine Learning Engineer HackerPulse  2024-05-24 https://lr.linkedin.com/jobs/view/machine-learning-engineer-at-hackerpulse-3934659530?position=32&pageNum=0&refId=2re0v4jMIWDNXkH6w6H2Tg%3D%3D&trackingId=YsG7mppohibTUeWWFzALqg%3D%3D&trk=public_jobs_jserp-result_search-card [] 1735\n"
     ]
    },
    {
     "name": "stderr",
     "output_type": "stream",
     "text": [
      "INFO:li:scraper:('[][Worldwide][25]', 'Processed')\n"
     ]
    },
    {
     "name": "stdout",
     "output_type": "stream",
     "text": [
      "[ON_DATA] NLP Engineer Nascent  2024-05-28 https://lr.linkedin.com/jobs/view/nlp-engineer-at-nascent-3937047823?position=33&pageNum=0&refId=2re0v4jMIWDNXkH6w6H2Tg%3D%3D&trackingId=3qousjXjTy5Yo1krvykFyQ%3D%3D&trk=public_jobs_jserp-result_search-card [] 4246\n"
     ]
    },
    {
     "name": "stderr",
     "output_type": "stream",
     "text": [
      "INFO:li:scraper:('[][Worldwide][26]', 'Processed')\n"
     ]
    },
    {
     "name": "stdout",
     "output_type": "stream",
     "text": [
      "[ON_DATA] Digital Marketing Manager TAIO  2024-03-20 https://lr.linkedin.com/jobs/view/digital-marketing-manager-at-taio-3865190416?position=34&pageNum=0&refId=2re0v4jMIWDNXkH6w6H2Tg%3D%3D&trackingId=xS1KBCdPOqFbc2SgtOUISg%3D%3D&trk=public_jobs_jserp-result_search-card [] 956\n"
     ]
    },
    {
     "name": "stderr",
     "output_type": "stream",
     "text": [
      "INFO:li:scraper:('[][Worldwide][27]', 'Processed')\n"
     ]
    },
    {
     "name": "stdout",
     "output_type": "stream",
     "text": [
      "[ON_DATA] 2/3D Animation Specialist Taskforce Solutions  2024-06-02 https://lr.linkedin.com/jobs/view/2-3d-animation-specialist-at-taskforce-solutions-3940761815?position=35&pageNum=0&refId=2re0v4jMIWDNXkH6w6H2Tg%3D%3D&trackingId=h2%2FNa4KMUs0sBI2Z9evZUg%3D%3D&trk=public_jobs_jserp-result_search-card [] 548\n"
     ]
    },
    {
     "name": "stderr",
     "output_type": "stream",
     "text": [
      "INFO:li:scraper:('Starting new query', \"Query(query=Engineer options=QueryOptions(limit=5 locations=['United States', 'Europe'] filters=QueryFilters(company_jobs_url=https://www.linkedin.com/jobs/search/?f_C=1441%2C17876832%2C791962%2C2374003%2C18950635%2C16140%2C10440912&geoId=92000000 relevance=RelevanceFilters.RECENT time=TimeFilters.MONTH base_salary=SalaryBaseFilters.SALARY_100K type=[<TypeFilters.FULL_TIME: 'F'>, <TypeFilters.INTERNSHIP: 'I'>] experience=[<ExperienceLevelFilters.MID_SENIOR: '4'>] on_site_or_remote=[<OnSiteOrRemoteFilters.REMOTE: '2'>]) apply_link=True skip_promoted_jobs=True page_offset=2))\")\n"
     ]
    },
    {
     "name": "stdout",
     "output_type": "stream",
     "text": [
      "[ON_END]\n"
     ]
    },
    {
     "name": "stderr",
     "output_type": "stream",
     "text": [
      "INFO:li:scraper:('Chrome debugger url', 'http://localhost:52472')\n",
      "INFO:li:scraper:('Websocket debugger url: ', 'ws://localhost:52472/devtools/page/9C294A84F06F23D514F4442076901909')\n",
      "WARNING:li:scraper:('[AnonymousStrategy]', 'This run strategy is no longer supported')\n",
      "INFO:li:scraper:('[Engineer][United States]', 'Opening https://www.linkedin.com/jobs/search?keywords=Engineer&location=United+States&f_C=1441%2C17876832%2C791962%2C2374003%2C18950635%2C16140%2C10440912&sortBy=DD&f_TPR=r2592000&f_SB2=4&f_JT=F%2CI&f_E=4&start=0')\n",
      "INFO:li:scraper:('[Engineer][United States]', 'Trying first selectors set')\n",
      "INFO:li:scraper:('[Engineer][United States]', 'Trying second selectors set')\n",
      "INFO:li:scraper:('[Engineer][United States]', 'OK')\n",
      "INFO:li:scraper:('[Engineer][United States]', 'Starting pagination loop')\n",
      "INFO:li:scraper:('[Engineer][United States]', 'Found 60 jobs')\n",
      "INFO:li:scraper:('[Engineer][United States][1]', 'Processed')\n"
     ]
    },
    {
     "name": "stdout",
     "output_type": "stream",
     "text": [
      "[ON_DATA] Senior Hardware Engineer, AR Google  2024-05-28 https://www.linkedin.com/jobs/view/senior-hardware-engineer-ar-at-google-3933229383?position=1&pageNum=0&refId=FKfhPDcN2cENZOd80w988A%3D%3D&trackingId=3L2TnifZwt0hrJpfZUTMMA%3D%3D&trk=public_jobs_jserp-result_search-card [] 3430\n"
     ]
    },
    {
     "name": "stderr",
     "output_type": "stream",
     "text": [
      "INFO:li:scraper:('[Engineer][United States][2]', 'Processed')\n"
     ]
    },
    {
     "name": "stdout",
     "output_type": "stream",
     "text": [
      "[ON_DATA] Senior Materials Engineer, Glass, Platforms and Devices Google  2024-05-28 https://www.linkedin.com/jobs/view/senior-materials-engineer-glass-platforms-and-devices-at-google-3933233107?position=2&pageNum=0&refId=FKfhPDcN2cENZOd80w988A%3D%3D&trackingId=FZ%2Bc0ocFra1fLzUd%2Bunreg%3D%3D&trk=public_jobs_jserp-result_search-card [] 4566\n"
     ]
    },
    {
     "name": "stderr",
     "output_type": "stream",
     "text": [
      "INFO:li:scraper:('[Engineer][United States][3]', 'Processed')\n"
     ]
    },
    {
     "name": "stdout",
     "output_type": "stream",
     "text": [
      "[ON_DATA] Machine Learning Engineer, Project Tapestry X, the moonshot factory  2024-05-22 https://www.linkedin.com/jobs/view/machine-learning-engineer-project-tapestry-at-x-the-moonshot-factory-3857732061?position=3&pageNum=0&refId=FKfhPDcN2cENZOd80w988A%3D%3D&trackingId=7k6U45f5dCPY3%2FYZSBwBcg%3D%3D&trk=public_jobs_jserp-result_search-card [] 3370\n"
     ]
    },
    {
     "name": "stderr",
     "output_type": "stream",
     "text": [
      "INFO:li:scraper:('[Engineer][United States][4]', 'Processed')\n"
     ]
    },
    {
     "name": "stdout",
     "output_type": "stream",
     "text": [
      "[ON_DATA] Senior Staff Physical Design Engineer Google  2024-05-23 https://www.linkedin.com/jobs/view/senior-staff-physical-design-engineer-at-google-3932110025?position=4&pageNum=0&refId=FKfhPDcN2cENZOd80w988A%3D%3D&trackingId=rMerNx5opqKk9JP%2FzOllpA%3D%3D&trk=public_jobs_jserp-result_search-card [] 4430\n"
     ]
    },
    {
     "name": "stderr",
     "output_type": "stream",
     "text": [
      "INFO:li:scraper:('[Engineer][United States][5]', 'Processed')\n"
     ]
    },
    {
     "name": "stdout",
     "output_type": "stream",
     "text": [
      "[ON_DATA] Senior Structural Simulation and Testing Engineer, Pixel Watch Google  2024-06-08 https://www.linkedin.com/jobs/view/senior-structural-simulation-and-testing-engineer-pixel-watch-at-google-3928617920?position=5&pageNum=0&refId=FKfhPDcN2cENZOd80w988A%3D%3D&trackingId=O0gpN6%2B1yEnY8mQQP%2Fr75w%3D%3D&trk=public_jobs_jserp-result_search-card [] 4490\n"
     ]
    },
    {
     "name": "stderr",
     "output_type": "stream",
     "text": [
      "INFO:li:scraper:('Chrome debugger url', 'http://localhost:52629')\n",
      "INFO:li:scraper:('Websocket debugger url: ', 'ws://localhost:52629/devtools/page/85F9D17F0D15EC60CFA18CBE581538B7')\n",
      "WARNING:li:scraper:('[AnonymousStrategy]', 'This run strategy is no longer supported')\n",
      "INFO:li:scraper:('[Engineer][Europe]', 'Opening https://www.linkedin.com/jobs/search?keywords=Engineer&location=Europe&f_C=1441%2C17876832%2C791962%2C2374003%2C18950635%2C16140%2C10440912&sortBy=DD&f_TPR=r2592000&f_SB2=4&f_JT=F%2CI&f_E=4&start=0')\n",
      "INFO:li:scraper:('[Engineer][Europe]', 'Trying first selectors set')\n",
      "INFO:li:scraper:('[Engineer][Europe]', 'Trying second selectors set')\n",
      "INFO:li:scraper:('[Engineer][Europe]', 'OK')\n",
      "INFO:li:scraper:('[Engineer][Europe]', 'Starting pagination loop')\n",
      "INFO:li:scraper:('[Engineer][Europe]', 'No jobs found, skip')\n"
     ]
    },
    {
     "name": "stdout",
     "output_type": "stream",
     "text": [
      "[ON_END]\n"
     ]
    }
   ],
   "source": [
    "!pip install linkedin_jobs_scraper\n",
    "import logging\n",
    "from linkedin_jobs_scraper import LinkedinScraper\n",
    "from linkedin_jobs_scraper.events import Events, EventData, EventMetrics\n",
    "from linkedin_jobs_scraper.query import Query, QueryOptions, QueryFilters\n",
    "from linkedin_jobs_scraper.filters import RelevanceFilters, TimeFilters, TypeFilters, ExperienceLevelFilters, \\\n",
    "    OnSiteOrRemoteFilters, SalaryBaseFilters\n",
    "\n",
    "# Change root logger level (default is WARN)\n",
    "logging.basicConfig(level=logging.INFO)\n",
    "\n",
    "\n",
    "# Fired once for each successfully processed job\n",
    "def on_data(data: EventData):\n",
    "    print('[ON_DATA]', data.title, data.company, data.company_link, data.date, data.link, data.insights,\n",
    "          len(data.description))\n",
    "\n",
    "\n",
    "# Fired once for each page (25 jobs)\n",
    "def on_metrics(metrics: EventMetrics):\n",
    "    print('[ON_METRICS]', str(metrics))\n",
    "\n",
    "\n",
    "def on_error(error):\n",
    "    print('[ON_ERROR]', error)\n",
    "\n",
    "\n",
    "def on_end():\n",
    "    print('[ON_END]')\n",
    "\n",
    "\n",
    "scraper = LinkedinScraper(\n",
    "    chrome_executable_path=None,  # Custom Chrome executable path (e.g. /foo/bar/bin/chromedriver)\n",
    "    chrome_binary_location=None,  # Custom path to Chrome/Chromium binary (e.g. /foo/bar/chrome-mac/Chromium.app/Contents/MacOS/Chromium)\n",
    "    chrome_options=None,  # Custom Chrome options here\n",
    "    headless=True,  # Overrides headless mode only if chrome_options is None\n",
    "    max_workers=1,  # How many threads will be spawned to run queries concurrently (one Chrome driver for each thread)\n",
    "    slow_mo=0.5,  # Slow down the scraper to avoid 'Too many requests 429' errors (in seconds)\n",
    "    page_load_timeout=40  # Page load timeout (in seconds)    \n",
    ")\n",
    "\n",
    "# Add event listeners\n",
    "scraper.on(Events.DATA, on_data)\n",
    "scraper.on(Events.ERROR, on_error)\n",
    "scraper.on(Events.END, on_end)\n",
    "\n",
    "queries = [\n",
    "    Query(\n",
    "        options=QueryOptions(\n",
    "            limit=27  # Limit the number of jobs to scrape.            \n",
    "        )\n",
    "    ),\n",
    "    Query(\n",
    "        query='Engineer',\n",
    "        options=QueryOptions(\n",
    "            locations=['United States', 'Europe'],\n",
    "            apply_link=True,  # Try to extract apply link (easy applies are skipped). If set to True, scraping is slower because an additional page must be navigated. Default to False.\n",
    "            skip_promoted_jobs=True,  # Skip promoted jobs. Default to False.\n",
    "            page_offset=2,  # How many pages to skip\n",
    "            limit=5,\n",
    "            filters=QueryFilters(\n",
    "                company_jobs_url='https://www.linkedin.com/jobs/search/?f_C=1441%2C17876832%2C791962%2C2374003%2C18950635%2C16140%2C10440912&geoId=92000000',  # Filter by companies.                \n",
    "                relevance=RelevanceFilters.RECENT,\n",
    "                time=TimeFilters.MONTH,\n",
    "                type=[TypeFilters.FULL_TIME, TypeFilters.INTERNSHIP],\n",
    "                on_site_or_remote=[OnSiteOrRemoteFilters.REMOTE],\n",
    "                experience=[ExperienceLevelFilters.MID_SENIOR],\n",
    "                base_salary=SalaryBaseFilters.SALARY_100K\n",
    "            )\n",
    "        )\n",
    "    ),\n",
    "]\n",
    "\n",
    "scraper.run(queries)"
   ]
  },
  {
   "cell_type": "code",
   "execution_count": 16,
   "id": "30874fa8-32f9-4cd5-932a-746108eaf4a6",
   "metadata": {},
   "outputs": [
    {
     "data": {
      "text/plain": [
       "['_LinkedinScraper__build_search_url',\n",
       " '_LinkedinScraper__run',\n",
       " '__class__',\n",
       " '__delattr__',\n",
       " '__dict__',\n",
       " '__dir__',\n",
       " '__doc__',\n",
       " '__eq__',\n",
       " '__format__',\n",
       " '__ge__',\n",
       " '__getattribute__',\n",
       " '__gt__',\n",
       " '__hash__',\n",
       " '__init__',\n",
       " '__init_subclass__',\n",
       " '__le__',\n",
       " '__lt__',\n",
       " '__module__',\n",
       " '__ne__',\n",
       " '__new__',\n",
       " '__reduce__',\n",
       " '__reduce_ex__',\n",
       " '__repr__',\n",
       " '__setattr__',\n",
       " '__sizeof__',\n",
       " '__str__',\n",
       " '__subclasshook__',\n",
       " '__weakref__',\n",
       " '_emitter',\n",
       " '_pool',\n",
       " '_strategy',\n",
       " 'add_proxy',\n",
       " 'chrome_binary_location',\n",
       " 'chrome_executable_path',\n",
       " 'chrome_options',\n",
       " 'emit',\n",
       " 'get_proxies',\n",
       " 'headless',\n",
       " 'on',\n",
       " 'once',\n",
       " 'page_load_timeout',\n",
       " 'remove_all_listeners',\n",
       " 'remove_listener',\n",
       " 'remove_proxy',\n",
       " 'run',\n",
       " 'set_proxies',\n",
       " 'slow_mo']"
      ]
     },
     "execution_count": 16,
     "metadata": {},
     "output_type": "execute_result"
    }
   ],
   "source": [
    "dir(scraper)"
   ]
  },
  {
   "cell_type": "code",
   "execution_count": 20,
   "id": "20a42ccb-b290-4160-a70a-40587ab7ec6d",
   "metadata": {},
   "outputs": [],
   "source": [
    "scraper.chrome_options"
   ]
  }
 ],
 "metadata": {
  "kernelspec": {
   "display_name": "Python 3 (ipykernel)",
   "language": "python",
   "name": "python3"
  },
  "language_info": {
   "codemirror_mode": {
    "name": "ipython",
    "version": 3
   },
   "file_extension": ".py",
   "mimetype": "text/x-python",
   "name": "python",
   "nbconvert_exporter": "python",
   "pygments_lexer": "ipython3",
   "version": "3.9.19"
  }
 },
 "nbformat": 4,
 "nbformat_minor": 5
}
